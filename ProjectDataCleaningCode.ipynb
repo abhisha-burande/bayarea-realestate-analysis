{
 "cells": [
  {
   "cell_type": "code",
   "execution_count": null,
   "metadata": {},
   "outputs": [],
   "source": [
    "## HOA Cleaning \n",
    "def HoaToInt(string):\n",
    "    try:\n",
    "        #print(string)\n",
    "        length=len(string)\n",
    "        if string=='NULL' :\n",
    "            return 0 \n",
    "        else: \n",
    "            return int(string.split('$')[1].split('/')[0].replace(',',''))\n",
    "    except:\n",
    "        print('Failed in HoaToInt: ' + str(string))\n",
    "        return 0\n",
    "\n",
    "df['Hoa/Month']=df['Hoa/Month'].apply(HoaToInt)\n",
    "\n",
    "# # Price Cleaning\n",
    "def PriceToInt(string):\n",
    "    try:\n",
    "        string=str(string)\n",
    "        return int(string.split('$')[1].split('+')[0].replace(',',''))\n",
    "    except:\n",
    "        print('Failed in PriceToInt: ' + str(string))\n",
    "        return 0\n",
    "\n",
    "df['Price']=df['Price'].apply(PriceToInt)\n",
    "\n",
    "# # ZipCode Cleaning\n",
    "def RemoveZipExt(string):\n",
    "    try:\n",
    "        string=str(string)\n",
    "        return string.split('-')[0]\n",
    "    except:\n",
    "        print('Failed in Strip Zip Extension: ' + str(string))\n",
    "        return string\n",
    "\n",
    "df['ZipCode']=df['ZipCode'].apply(RemoveZipExt)"
   ]
  }
 ],
 "metadata": {
  "kernelspec": {
   "display_name": "Python 3",
   "language": "python",
   "name": "python3"
  },
  "language_info": {
   "codemirror_mode": {
    "name": "ipython",
    "version": 3
   },
   "file_extension": ".py",
   "mimetype": "text/x-python",
   "name": "python",
   "nbconvert_exporter": "python",
   "pygments_lexer": "ipython3",
   "version": "3.7.3"
  }
 },
 "nbformat": 4,
 "nbformat_minor": 2
}
