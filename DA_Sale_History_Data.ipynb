{
 "cells": [
  {
   "cell_type": "code",
   "execution_count": 1,
   "metadata": {},
   "outputs": [],
   "source": [
    "import pandas as pd\n",
    "import os\n",
    "import json\n",
    "import re\n",
    "from bs4 import BeautifulSoup"
   ]
  },
  {
   "cell_type": "markdown",
   "metadata": {},
   "source": [
    "### House Address ,City ,ZipCode Information"
   ]
  },
  {
   "cell_type": "code",
   "execution_count": 2,
   "metadata": {},
   "outputs": [],
   "source": [
    "# same as in group data\n",
    "def get_house_details(content,realestate_df,index):\n",
    "    \n",
    "    #Price\n",
    "    #price = soup.find(class_='info-block price').find(class_=\"statsValue\").find_all('span')[1].get_text()\n",
    "    # realestate_df.loc[index]['Price'] = price\n",
    "    \n",
    "    #Street Address\n",
    "    street_Addr = soup.find(class_='street-address').get_text()\n",
    "    realestate_df.loc[index]['Address'] = street_Addr\n",
    "    \n",
    "    #City\n",
    "    city = soup.find(class_='locality').get_text()[:-2]\n",
    "    realestate_df.loc[index]['City'] = city \n",
    "    \n",
    "    #State\n",
    "    state = soup.find(class_='region').get_text()\n",
    "    realestate_df.loc[index]['State'] = state\n",
    "    \n",
    "    #Zipcode\n",
    "    zipcode = soup.find(class_='postal-code').get_text()\n",
    "    realestate_df.loc[index]['ZipCode'] = zipcode"
   ]
  },
  {
   "cell_type": "markdown",
   "metadata": {},
   "source": [
    "### Get Detail House Information"
   ]
  },
  {
   "cell_type": "code",
   "execution_count": 3,
   "metadata": {},
   "outputs": [],
   "source": [
    "# same as in main group data\n",
    "#get bed and bath information\n",
    "def bedsDetail(content):\n",
    "    noOfBeds = soup.findAll(\"div\", attrs = {'class': 'info-block','data-rf-test-id' : 'abp-beds'})\n",
    "    noOfBedsList = []\n",
    "    for value in noOfBeds:\n",
    "        noOfBedsList.append(value.get_text())\n",
    "    \n",
    "    noOfBedsList2 = []\n",
    "    for value2 in noOfBedsList:\n",
    "        noOfBedsList2.append(value2[0:1])\n",
    "    return noOfBedsList2\n",
    "\n",
    "def bathsDetail(content):\n",
    "    noOfBaths = soup.findAll(\"div\", attrs = {'class': 'info-block','data-rf-test-id' : 'abp-baths'})\n",
    "    noOfBathsList = []\n",
    "    for value in noOfBaths:\n",
    "        noOfBathsList.append(value.get_text())\n",
    "    \n",
    "    noOfBathsList2 = []\n",
    "    for value2 in noOfBathsList:\n",
    "        noOfBathsList2.append(value2[0:1])\n",
    "    return noOfBathsList2"
   ]
  },
  {
   "cell_type": "code",
   "execution_count": 4,
   "metadata": {},
   "outputs": [],
   "source": [
    "# same as in group data\n",
    "# Property Type\n",
    "def PropertyDetail(content):\n",
    "    PropertyType = content.findAll('div',attrs={'class':'facts-table'})\n",
    "    PropertyType=PropertyType[0].contents[7].contents[1].get_text()\n",
    "    dct_PropertyDetail = {}\n",
    "    dct_PropertyDetail['PropertyType']=PropertyType\n",
    "    return dct_PropertyDetail "
   ]
  },
  {
   "cell_type": "markdown",
   "metadata": {},
   "source": [
    "### get Sale History Events"
   ]
  },
  {
   "cell_type": "code",
   "execution_count": 5,
   "metadata": {},
   "outputs": [],
   "source": [
    "def SaleEvents(content):\n",
    "    html = content.get_text()\n",
    "    matches = re.findall('events\\\\\\\\\":([^]]*)',html)\n",
    "    string = str(matches[0] + ']')\n",
    "    string = string.replace('\\\\\\\"','\\\"')\n",
    "    events = json.loads(string)\n",
    "    saleHistory = []\n",
    "    yearBuilt=BuiltDetail(content)['YearBuilt']\n",
    "    prevSalePrice = 0\n",
    "    for event in events:\n",
    "        if 'price' not in event:\n",
    "            continue\n",
    "        if event['price'] == prevSalePrice:\n",
    "            continue\n",
    "        if 'eventDescription' not in event:\n",
    "            continue\n",
    "        if not event['eventDescription'].startswith('Sold'):\n",
    "            continue\n",
    "        if 'eventDateString' not in event:\n",
    "            continue\n",
    "        saleYear = event['eventDateString'].split(',')[1].strip()\n",
    "        if saleYear == yearBuilt:\n",
    "            continue\n",
    "        prevSalePrice = event['price']\n",
    "        #print('Event: ' + event['eventDescription'] + ' Price: ' + str(event['price']) + ' SaleYear: ' + saleYear)\n",
    "        saleHistory.append({'SaleYear':saleYear,'SalePrice':event['price'], 'YearsOwned':0})\n",
    "    for i in range(len(saleHistory)):\n",
    "        #print(saleHistory)\n",
    "        saleYear = int(saleHistory[i]['SaleYear'])\n",
    "        if i == (len(saleHistory)-1):\n",
    "            saleHistory[i]['YearsOwned'] = saleYear - int(yearBuilt)\n",
    "        else:\n",
    "            saleHistory[i]['YearsOwned'] = saleYear - int(saleHistory[i+1]['SaleYear'])\n",
    "    #print(saleHistory)\n",
    "    return saleHistory"
   ]
  },
  {
   "cell_type": "markdown",
   "metadata": {},
   "source": [
    "### Built Year and Renovate Year"
   ]
  },
  {
   "cell_type": "code",
   "execution_count": 6,
   "metadata": {},
   "outputs": [],
   "source": [
    "#same as in group data\n",
    "# Built Year and Renovated Year\n",
    "def BuiltDetail(content):\n",
    "    Built = content.findAll('div',attrs={'class':'facts-table'})\n",
    "    BuiltYear=Built[0].contents[8].contents[1].get_text()\n",
    "    RenovatedYear=Built[0].contents[9].contents[1].get_text()\n",
    "    dct_BuiltDetail = {}\n",
    "    dct_BuiltDetail['YearBuilt']=BuiltYear\n",
    "    dct_BuiltDetail['YearRenovated']=RenovatedYear\n",
    "    return dct_BuiltDetail   "
   ]
  },
  {
   "cell_type": "markdown",
   "metadata": {},
   "source": [
    "### Populate Built Year and Renovate year to DataFrame"
   ]
  },
  {
   "cell_type": "code",
   "execution_count": 7,
   "metadata": {},
   "outputs": [],
   "source": [
    "# same as in group data\n",
    "# Built year and Renovated Details\n",
    "def write_Built_toDataFrame(content,realestate_df,index):\n",
    "    try:\n",
    "        dct_BuiltDetail=BuiltDetail(content)\n",
    "        for key, value in dct_BuiltDetail.items() :\n",
    "            #print (key, value)\n",
    "            if 'YearBuilt' in key:\n",
    "                realestate_df.loc[index]['YearBuilt'] = value\n",
    "            elif 'YearRenovated' in key:\n",
    "                realestate_df.loc[index]['YearRenovated'] = value\n",
    "    except Exception as e:\n",
    "        print(\" error at year built and Renovation :\", e)\n",
    "        "
   ]
  },
  {
   "cell_type": "code",
   "execution_count": 8,
   "metadata": {},
   "outputs": [],
   "source": [
    "# same as in group data\n",
    "#Property_Type Detail to DataFrame        \n",
    "# Property Type\n",
    "\n",
    "def write_PropertyType_toDataFrame(content,realestate_df,index):\n",
    "    try:\n",
    "        dct_PropertyDetail=PropertyDetail(content)\n",
    "        for key, value in dct_PropertyDetail.items() :\n",
    "            #print (key, value)\n",
    "            if 'PropertyType' in key:\n",
    "                realestate_df.loc[index]['PropertyType'] = value\n",
    "    except Exception as e:\n",
    "        print(\"error while writing property info:\",e)     "
   ]
  },
  {
   "cell_type": "code",
   "execution_count": 9,
   "metadata": {},
   "outputs": [],
   "source": [
    "\n",
    "#same as in group data\n",
    "def write_noOfBeds_toDataFrame(content,realestate_df,index):\n",
    "    try:\n",
    "        beds_List = bedsDetail(content)\n",
    "        for value in beds_List:\n",
    "            #print(value)\n",
    "            realestate_df.loc[index]['Beds'] = value\n",
    "    except Exception as e:\n",
    "        print(\"error while writing bedroom info:\",e)    \n",
    "        \n",
    "def write_noOfBaths_toDataFrame(content,realestate_df,index):\n",
    "    try:\n",
    "        baths_List = bathsDetail(content)\n",
    "        for value in baths_List:\n",
    "            #print(value)\n",
    "            realestate_df.loc[index]['Baths'] = value\n",
    "    except Exception as e:\n",
    "        print(\"error while writing bathroom info:\",e)"
   ]
  },
  {
   "cell_type": "code",
   "execution_count": 10,
   "metadata": {},
   "outputs": [],
   "source": [
    "# same as in group data\n",
    "#selling Price to dataFrame\n",
    "def write_sellingPrice_toDataFrame(content, realestate_df, index):\n",
    "    try:\n",
    "        sellingPriceList = sellingPrice(content)\n",
    "\n",
    "        for value in sellingPriceList:\n",
    "            #print (value)\n",
    "            realestate_df.loc[index]['Price'] = value\n",
    "    except Exception as e:\n",
    "               \n",
    "        print(\"Exception in write sellingPrice_toDataFrame :\", e)\n",
    "        "
   ]
  },
  {
   "cell_type": "code",
   "execution_count": 11,
   "metadata": {},
   "outputs": [],
   "source": [
    "#same as in group data\n",
    "#get Selling Price\n",
    "def sellingPrice(content):\n",
    "    sellingPrice = soup.findAll(\"div\", attrs = {\"class\": \"statsValue\"})\n",
    "\n",
    "\n",
    "    sellingPriceList = []\n",
    "    sellingPriceList.append(sellingPrice[0].get_text())\n",
    "    \n",
    "    \n",
    "    \n",
    "    return sellingPriceList"
   ]
  },
  {
   "cell_type": "code",
   "execution_count": 12,
   "metadata": {},
   "outputs": [],
   "source": [
    "def write_saleHistory_toDataFrame(saleHistory, realestate_df,index):\n",
    "    try:\n",
    "        realestate_df.loc[index]['SaleYear']=saleHistory['SaleYear']\n",
    "        realestate_df.loc[index]['SalePrice']=saleHistory['SalePrice']\n",
    "        realestate_df.loc[index]['YearsOwned']=saleHistory['YearsOwned']\n",
    "    except Exception as e:\n",
    "        print('error while writing sale history info:',e)"
   ]
  },
  {
   "cell_type": "markdown",
   "metadata": {},
   "source": [
    "## Main function start here"
   ]
  },
  {
   "cell_type": "code",
   "execution_count": 13,
   "metadata": {
    "scrolled": true
   },
   "outputs": [
    {
     "name": "stdout",
     "output_type": "stream",
     "text": [
      "reading file CA_Campbell_123-E-Rosemary-Ln-95008_home_1738332.html\n",
      "[{'isEventAdminOnly': False, 'price': 1250000, 'isPriceAdminOnly': False, 'eventDescription': 'Listed', 'mlsDescription': 'Active', 'source': 'MLSListings', 'sourceId': 'ML81784293', 'dataSourceDisplay': {'dataSourceId': 8, 'dataSourceDescription': 'MLSListings Inc. (MLSListings)', 'dataSourceName': 'MLSListings', 'dataSourceImage': 'mlsListings_small.png', 'shouldShowLargerLogo': False}, 'priceDisplayLevel': 1, 'historyEventType': 1, 'eventDate': 1582764833000}, {'isEventAdminOnly': False, 'price': 690000, 'isPriceAdminOnly': False, 'eventDescription': 'Sold (MLS)', 'mlsDescription': 'Sold', 'source': 'MLSListings', 'sourceId': 'ML81303406', 'dataSourceDisplay': {'dataSourceId': 8, 'dataSourceDescription': 'MLSListings Inc. (MLSListings)', 'dataSourceName': 'MLSListings', 'dataSourceImage': 'mlsListings_small.png', 'shouldShowLargerLogo': False}, 'priceDisplayLevel': 1, 'historyEventType': 2, 'eventDate': 1362643200000, 'eventDateString': 'Mar 7, 2013'}, {'isEventAdminOnly': False, 'price': 510000, 'isPriceAdminOnly': False, 'eventDescription': 'Sold (MLS)', 'mlsDescription': 'Sold', 'source': 'MLSListings', 'sourceId': 'ML81227286', 'dataSourceDisplay': {'dataSourceId': 8, 'dataSourceDescription': 'MLSListings Inc. (MLSListings)', 'dataSourceName': 'MLSListings', 'dataSourceImage': 'mlsListings_small.png', 'shouldShowLargerLogo': False}, 'priceDisplayLevel': 1, 'historyEventType': 2, 'eventDate': 1350630000000, 'eventDateString': 'Oct 19, 2012'}]\n",
      "reading file CA_Campbell_165-Hunt-Way-95008_home_815991.html\n",
      "[{'isEventAdminOnly': False, 'price': 1275000, 'isPriceAdminOnly': False, 'eventDescription': 'Listed', 'mlsDescription': 'Active', 'source': 'MLSListings', 'sourceId': 'ML81784291', 'dataSourceDisplay': {'dataSourceId': 8, 'dataSourceDescription': 'MLSListings Inc. (MLSListings)', 'dataSourceName': 'MLSListings', 'dataSourceImage': 'mlsListings_small.png', 'shouldShowLargerLogo': False}, 'priceDisplayLevel': 1, 'historyEventType': 1, 'eventDate': 1582764564000}]\n",
      "reading file CA_Campbell_673-Regas-Dr-95008_home_1432331.html\n",
      "[{'isEventAdminOnly': False, 'price': 1989888, 'isPriceAdminOnly': False, 'eventDescription': 'Listed', 'mlsDescription': 'Active', 'source': 'MLSListings', 'sourceId': 'ML81783990', 'dataSourceDisplay': {'dataSourceId': 8, 'dataSourceDescription': 'MLSListings Inc. (MLSListings)', 'dataSourceName': 'MLSListings', 'dataSourceImage': 'mlsListings_small.png', 'shouldShowLargerLogo': False}, 'priceDisplayLevel': 1, 'historyEventType': 1, 'eventDate': 1582643417000}, {'isEventAdminOnly': False, 'price': 967000, 'isPriceAdminOnly': False, 'appreciation': 0.05780325051485091, 'eventDescription': 'Sold (Public Records)', 'source': 'Public Records', 'dataSourceDisplay': {'shouldShowLargerLogo': False}, 'priceDisplayLevel': 1, 'historyEventType': 2, 'eventDate': 1021618800000, 'eventDateString': 'May 17, 2002'}, {'isEventAdminOnly': False, 'price': 450000, 'isPriceAdminOnly': False, 'eventDescription': 'Sold (Public Records)', 'source': 'Public Records', 'dataSourceDisplay': {'shouldShowLargerLogo': False}, 'priceDisplayLevel': 1, 'historyEventType': 2, 'eventDate': 592038000000, 'eventDateString': 'Oct 5, 1988'}]\n"
     ]
    }
   ],
   "source": [
    "\n",
    "# main function starts here\n",
    "# Reading html file from the directory using BeautifulSoup\n",
    "\n",
    "\n",
    "column_name =['PropertyType','Address','City','State','ZipCode','Price','Beds','Baths',\n",
    "             'YearBuilt','YearRenovated','SaleYear','SalePrice','YearsOwned']\n",
    "realestate_df = pd.DataFrame(columns =column_name)\n",
    "counter=0\n",
    "os.chdir('C:/Users/Abhisha Burande/Downloads/html2/html/all')\n",
    "\n",
    "for file in os.listdir():\n",
    "    try:\n",
    "        print(\"reading file\" ,file)\n",
    "        soup = BeautifulSoup(open(file,encoding='utf-8'), \"html.parser\")\n",
    "        saleHistory = SaleEvents(soup)\n",
    "        for i in range(len(saleHistory)):\n",
    "            house_index =\"house_\"+str(counter)+'.'+str(i)\n",
    "            realestate_df= realestate_df.append(pd.Series(name=house_index))\n",
    "            #print('0')\n",
    "            write_saleHistory_toDataFrame(saleHistory[i],realestate_df,house_index)\n",
    "            #print(\"1\")\n",
    "            write_noOfBeds_toDataFrame(soup,realestate_df,house_index)\n",
    "            #print(\"2\")\n",
    "            write_noOfBaths_toDataFrame(soup,realestate_df,house_index)\n",
    "            #print(\"3\")\n",
    "            write_Built_toDataFrame(soup,realestate_df,house_index)\n",
    "            #print(\"4\")\n",
    "            write_PropertyType_toDataFrame(soup,realestate_df,house_index)\n",
    "            #print(\"5\")\n",
    "            get_house_details(soup,realestate_df,house_index)\n",
    "            #print(\"6\")\n",
    "            write_sellingPrice_toDataFrame(soup,realestate_df,house_index)\n",
    "    except Exception as e:\n",
    "        print(\"error in File :\",file)\n",
    "        print(e)\n",
    "    except:\n",
    "        print(file)\n",
    "    finally:\n",
    "        counter=counter+1"
   ]
  },
  {
   "cell_type": "code",
   "execution_count": 14,
   "metadata": {},
   "outputs": [
    {
     "data": {
      "text/html": [
       "<div>\n",
       "<style scoped>\n",
       "    .dataframe tbody tr th:only-of-type {\n",
       "        vertical-align: middle;\n",
       "    }\n",
       "\n",
       "    .dataframe tbody tr th {\n",
       "        vertical-align: top;\n",
       "    }\n",
       "\n",
       "    .dataframe thead th {\n",
       "        text-align: right;\n",
       "    }\n",
       "</style>\n",
       "<table border=\"1\" class=\"dataframe\">\n",
       "  <thead>\n",
       "    <tr style=\"text-align: right;\">\n",
       "      <th></th>\n",
       "      <th>PropertyType</th>\n",
       "      <th>Address</th>\n",
       "      <th>City</th>\n",
       "      <th>State</th>\n",
       "      <th>ZipCode</th>\n",
       "      <th>Price</th>\n",
       "      <th>Beds</th>\n",
       "      <th>Baths</th>\n",
       "      <th>YearBuilt</th>\n",
       "      <th>YearRenovated</th>\n",
       "      <th>SaleYear</th>\n",
       "      <th>SalePrice</th>\n",
       "      <th>YearsOwned</th>\n",
       "    </tr>\n",
       "  </thead>\n",
       "  <tbody>\n",
       "    <tr>\n",
       "      <td>house_0.0</td>\n",
       "      <td>Single Family Residential</td>\n",
       "      <td>123 E Rosemary Ln</td>\n",
       "      <td>CAMPBELL</td>\n",
       "      <td>CA</td>\n",
       "      <td>95008</td>\n",
       "      <td>$1,250,000</td>\n",
       "      <td>3</td>\n",
       "      <td>2</td>\n",
       "      <td>1949</td>\n",
       "      <td>1949</td>\n",
       "      <td>2013</td>\n",
       "      <td>690000</td>\n",
       "      <td>1</td>\n",
       "    </tr>\n",
       "    <tr>\n",
       "      <td>house_0.1</td>\n",
       "      <td>Single Family Residential</td>\n",
       "      <td>123 E Rosemary Ln</td>\n",
       "      <td>CAMPBELL</td>\n",
       "      <td>CA</td>\n",
       "      <td>95008</td>\n",
       "      <td>$1,250,000</td>\n",
       "      <td>3</td>\n",
       "      <td>2</td>\n",
       "      <td>1949</td>\n",
       "      <td>1949</td>\n",
       "      <td>2012</td>\n",
       "      <td>510000</td>\n",
       "      <td>63</td>\n",
       "    </tr>\n",
       "    <tr>\n",
       "      <td>house_2.0</td>\n",
       "      <td>Single Family Residential</td>\n",
       "      <td>673 Regas Dr</td>\n",
       "      <td>CAMPBELL</td>\n",
       "      <td>CA</td>\n",
       "      <td>95008</td>\n",
       "      <td>$1,989,888</td>\n",
       "      <td>4</td>\n",
       "      <td>3</td>\n",
       "      <td>1988</td>\n",
       "      <td>1988</td>\n",
       "      <td>2002</td>\n",
       "      <td>967000</td>\n",
       "      <td>14</td>\n",
       "    </tr>\n",
       "  </tbody>\n",
       "</table>\n",
       "</div>"
      ],
      "text/plain": [
       "                        PropertyType             Address      City State  \\\n",
       "house_0.0  Single Family Residential  123 E Rosemary Ln   CAMPBELL    CA   \n",
       "house_0.1  Single Family Residential  123 E Rosemary Ln   CAMPBELL    CA   \n",
       "house_2.0  Single Family Residential       673 Regas Dr   CAMPBELL    CA   \n",
       "\n",
       "          ZipCode       Price Beds Baths YearBuilt YearRenovated SaleYear  \\\n",
       "house_0.0   95008  $1,250,000    3     2      1949          1949     2013   \n",
       "house_0.1   95008  $1,250,000    3     2      1949          1949     2012   \n",
       "house_2.0   95008  $1,989,888    4     3      1988          1988     2002   \n",
       "\n",
       "          SalePrice YearsOwned  \n",
       "house_0.0    690000          1  \n",
       "house_0.1    510000         63  \n",
       "house_2.0    967000         14  "
      ]
     },
     "execution_count": 14,
     "metadata": {},
     "output_type": "execute_result"
    }
   ],
   "source": [
    "realestate_df"
   ]
  },
  {
   "cell_type": "code",
   "execution_count": 65,
   "metadata": {},
   "outputs": [],
   "source": [
    "realestate_df.to_csv('realestate_sale_history_all_df.csv')"
   ]
  }
 ],
 "metadata": {
  "kernelspec": {
   "display_name": "Python 3",
   "language": "python",
   "name": "python3"
  },
  "language_info": {
   "codemirror_mode": {
    "name": "ipython",
    "version": 3
   },
   "file_extension": ".py",
   "mimetype": "text/x-python",
   "name": "python",
   "nbconvert_exporter": "python",
   "pygments_lexer": "ipython3",
   "version": "3.7.3"
  }
 },
 "nbformat": 4,
 "nbformat_minor": 2
}
